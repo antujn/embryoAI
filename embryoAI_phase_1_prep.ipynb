{
 "cells": [
  {
   "cell_type": "markdown",
   "id": "989fa3c3",
   "metadata": {},
   "source": [
    "### imports"
   ]
  },
  {
   "cell_type": "code",
   "execution_count": 1,
   "id": "7b271f3e",
   "metadata": {},
   "outputs": [],
   "source": [
    "import numpy as np\n",
    "import pandas as pd\n",
    "\n",
    "import os\n",
    "from tqdm import tqdm\n",
    "tqdm.pandas()\n",
    "\n",
    "import matplotlib.pyplot as plt"
   ]
  },
  {
   "cell_type": "code",
   "execution_count": 2,
   "id": "7c29a623",
   "metadata": {},
   "outputs": [],
   "source": [
    "# ! pip3 install matplotlib"
   ]
  },
  {
   "cell_type": "markdown",
   "id": "915d7196",
   "metadata": {},
   "source": [
    "### prep labels"
   ]
  },
  {
   "cell_type": "code",
   "execution_count": 3,
   "id": "b6a98443",
   "metadata": {},
   "outputs": [],
   "source": [
    "# get annotations file list\n",
    "annotations_root = \"embryoAI_labels\"\n",
    "annotations_file_list = os.listdir(annotations_root)\n",
    "\n",
    "# get images file list\n",
    "images_root = \"embryoAI_images\"\n",
    "images_file_list = []\n",
    "for path, subdir, files in os.walk(images_root):\n",
    "    for file in files:\n",
    "        if file.endswith(\".jpeg\"):\n",
    "            images_file_list.append(os.path.join(path, file))\n",
    "\n",
    "images = pd.DataFrame(images_file_list, columns=[\"path\"])\n",
    "images[\"case\"] = images.path.str.split(\"/\").str[1]\n",
    "images[\"frame\"] = images.path.str.split(\"RUN\").str[-1].str[:-5].map(int)"
   ]
  },
  {
   "cell_type": "code",
   "execution_count": 4,
   "id": "dda1a3b9",
   "metadata": {},
   "outputs": [
    {
     "name": "stderr",
     "output_type": "stream",
     "text": [
      "100%|████████████████████████████████████████| 704/704 [00:02<00:00, 242.43it/s]\n"
     ]
    }
   ],
   "source": [
    "# consolidate labels in one dataframe\n",
    "\n",
    "def make_label_for_each_frame(annotations_file: str) -> pd.DataFrame:\n",
    "    case = annotations_file.split(\"_\")[0]\n",
    "    case_annotations = pd.read_csv(os.path.join(annotations_root, annotations_file), \n",
    "                                   names = [\"phase\", \"start\", \"end\"])\n",
    "    case_annotations[\"case\"] = case\n",
    "    case_annotations['frame']=[list(range(x,y+1)) for x, y in zip(case_annotations.start, case_annotations.end)]\n",
    "    case_annotations_exploded = case_annotations.explode(\"frame\").drop(columns=[\"start\", \"end\"])\n",
    "    return case_annotations_exploded[[\"case\", \"frame\", \"phase\"]]\n",
    "\n",
    "labels = pd.DataFrame()\n",
    "for annotations_file in tqdm(annotations_file_list):\n",
    "    labels = pd.concat([labels, make_label_for_each_frame(annotations_file)])\n",
    "    \n",
    "labels = labels.reset_index(drop=True)"
   ]
  },
  {
   "cell_type": "code",
   "execution_count": 5,
   "id": "921e46be",
   "metadata": {},
   "outputs": [
    {
     "data": {
      "text/html": [
       "<div>\n",
       "<style scoped>\n",
       "    .dataframe tbody tr th:only-of-type {\n",
       "        vertical-align: middle;\n",
       "    }\n",
       "\n",
       "    .dataframe tbody tr th {\n",
       "        vertical-align: top;\n",
       "    }\n",
       "\n",
       "    .dataframe thead th {\n",
       "        text-align: right;\n",
       "    }\n",
       "</style>\n",
       "<table border=\"1\" class=\"dataframe\">\n",
       "  <thead>\n",
       "    <tr style=\"text-align: right;\">\n",
       "      <th></th>\n",
       "      <th>case</th>\n",
       "      <th>frame</th>\n",
       "      <th>phase</th>\n",
       "      <th>path</th>\n",
       "      <th>flag</th>\n",
       "    </tr>\n",
       "  </thead>\n",
       "  <tbody>\n",
       "    <tr>\n",
       "      <th>0</th>\n",
       "      <td>DS61-1</td>\n",
       "      <td>9</td>\n",
       "      <td>tPB2</td>\n",
       "      <td>embryoAI_images/DS61-1/D2012.01.27_S0364_I132_...</td>\n",
       "      <td>growing</td>\n",
       "    </tr>\n",
       "    <tr>\n",
       "      <th>1</th>\n",
       "      <td>DS61-1</td>\n",
       "      <td>10</td>\n",
       "      <td>tPB2</td>\n",
       "      <td>embryoAI_images/DS61-1/D2012.01.27_S0364_I132_...</td>\n",
       "      <td>growing</td>\n",
       "    </tr>\n",
       "    <tr>\n",
       "      <th>2</th>\n",
       "      <td>DS61-1</td>\n",
       "      <td>11</td>\n",
       "      <td>tPB2</td>\n",
       "      <td>embryoAI_images/DS61-1/D2012.01.27_S0364_I132_...</td>\n",
       "      <td>growing</td>\n",
       "    </tr>\n",
       "    <tr>\n",
       "      <th>3</th>\n",
       "      <td>DS61-1</td>\n",
       "      <td>12</td>\n",
       "      <td>tPB2</td>\n",
       "      <td>embryoAI_images/DS61-1/D2012.01.27_S0364_I132_...</td>\n",
       "      <td>growing</td>\n",
       "    </tr>\n",
       "    <tr>\n",
       "      <th>4</th>\n",
       "      <td>DS61-1</td>\n",
       "      <td>13</td>\n",
       "      <td>tPB2</td>\n",
       "      <td>embryoAI_images/DS61-1/D2012.01.27_S0364_I132_...</td>\n",
       "      <td>growing</td>\n",
       "    </tr>\n",
       "    <tr>\n",
       "      <th>...</th>\n",
       "      <td>...</td>\n",
       "      <td>...</td>\n",
       "      <td>...</td>\n",
       "      <td>...</td>\n",
       "      <td>...</td>\n",
       "    </tr>\n",
       "    <tr>\n",
       "      <th>389264</th>\n",
       "      <td>RC755-9</td>\n",
       "      <td>472</td>\n",
       "      <td>tEB</td>\n",
       "      <td>embryoAI_images/RC755-9/D2013.07.08_S0875_I132...</td>\n",
       "      <td>expanded</td>\n",
       "    </tr>\n",
       "    <tr>\n",
       "      <th>389265</th>\n",
       "      <td>RC755-9</td>\n",
       "      <td>473</td>\n",
       "      <td>tEB</td>\n",
       "      <td>embryoAI_images/RC755-9/D2013.07.08_S0875_I132...</td>\n",
       "      <td>expanded</td>\n",
       "    </tr>\n",
       "    <tr>\n",
       "      <th>389266</th>\n",
       "      <td>RC755-9</td>\n",
       "      <td>474</td>\n",
       "      <td>tEB</td>\n",
       "      <td>embryoAI_images/RC755-9/D2013.07.08_S0875_I132...</td>\n",
       "      <td>expanded</td>\n",
       "    </tr>\n",
       "    <tr>\n",
       "      <th>389267</th>\n",
       "      <td>RC755-9</td>\n",
       "      <td>475</td>\n",
       "      <td>tEB</td>\n",
       "      <td>embryoAI_images/RC755-9/D2013.07.08_S0875_I132...</td>\n",
       "      <td>expanded</td>\n",
       "    </tr>\n",
       "    <tr>\n",
       "      <th>389268</th>\n",
       "      <td>RC755-9</td>\n",
       "      <td>476</td>\n",
       "      <td>tEB</td>\n",
       "      <td>embryoAI_images/RC755-9/D2013.07.08_S0875_I132...</td>\n",
       "      <td>expanded</td>\n",
       "    </tr>\n",
       "  </tbody>\n",
       "</table>\n",
       "<p>389269 rows × 5 columns</p>\n",
       "</div>"
      ],
      "text/plain": [
       "           case frame phase  \\\n",
       "0        DS61-1     9  tPB2   \n",
       "1        DS61-1    10  tPB2   \n",
       "2        DS61-1    11  tPB2   \n",
       "3        DS61-1    12  tPB2   \n",
       "4        DS61-1    13  tPB2   \n",
       "...         ...   ...   ...   \n",
       "389264  RC755-9   472   tEB   \n",
       "389265  RC755-9   473   tEB   \n",
       "389266  RC755-9   474   tEB   \n",
       "389267  RC755-9   475   tEB   \n",
       "389268  RC755-9   476   tEB   \n",
       "\n",
       "                                                     path      flag  \n",
       "0       embryoAI_images/DS61-1/D2012.01.27_S0364_I132_...   growing  \n",
       "1       embryoAI_images/DS61-1/D2012.01.27_S0364_I132_...   growing  \n",
       "2       embryoAI_images/DS61-1/D2012.01.27_S0364_I132_...   growing  \n",
       "3       embryoAI_images/DS61-1/D2012.01.27_S0364_I132_...   growing  \n",
       "4       embryoAI_images/DS61-1/D2012.01.27_S0364_I132_...   growing  \n",
       "...                                                   ...       ...  \n",
       "389264  embryoAI_images/RC755-9/D2013.07.08_S0875_I132...  expanded  \n",
       "389265  embryoAI_images/RC755-9/D2013.07.08_S0875_I132...  expanded  \n",
       "389266  embryoAI_images/RC755-9/D2013.07.08_S0875_I132...  expanded  \n",
       "389267  embryoAI_images/RC755-9/D2013.07.08_S0875_I132...  expanded  \n",
       "389268  embryoAI_images/RC755-9/D2013.07.08_S0875_I132...  expanded  \n",
       "\n",
       "[389269 rows x 5 columns]"
      ]
     },
     "execution_count": 5,
     "metadata": {},
     "output_type": "execute_result"
    }
   ],
   "source": [
    "data = pd.merge(labels, images, on = [\"case\", \"frame\"], how = \"left\")\n",
    "\n",
    "def add_reduced_labels(phase):\n",
    "    if phase not in ['tB', 'tEB', 'tHB']:\n",
    "        return \"growing\"\n",
    "    elif phase == 'tB':\n",
    "        return \"blastocyst\"\n",
    "    elif phase == 'tEB':\n",
    "        return \"expanded\"\n",
    "    elif phase == 'tHB':\n",
    "        return \"hatched\"\n",
    "    else:\n",
    "        return None\n",
    "        \n",
    "\n",
    "data[\"flag\"] = data.phase.apply(add_reduced_labels)\n",
    "data"
   ]
  },
  {
   "cell_type": "code",
   "execution_count": 6,
   "id": "3c3ff153",
   "metadata": {},
   "outputs": [],
   "source": [
    "data = data.dropna().reset_index(drop = True)\n",
    "data.to_csv(\"embryoAI_data.csv\", index = False)"
   ]
  },
  {
   "cell_type": "markdown",
   "id": "4152a00a",
   "metadata": {},
   "source": [
    "### exploratory analysis"
   ]
  },
  {
   "cell_type": "code",
   "execution_count": 7,
   "id": "e80887bf",
   "metadata": {},
   "outputs": [
    {
     "data": {
      "text/plain": [
       "growing       344152\n",
       "expanded       24699\n",
       "blastocyst     13501\n",
       "hatched           97\n",
       "Name: flag, dtype: int64"
      ]
     },
     "execution_count": 7,
     "metadata": {},
     "output_type": "execute_result"
    }
   ],
   "source": [
    "reduced_counts = data.flag.value_counts()\n",
    "reduced_counts"
   ]
  },
  {
   "cell_type": "code",
   "execution_count": 8,
   "id": "1dc21619",
   "metadata": {},
   "outputs": [
    {
     "data": {
      "text/plain": [
       "<Axes: >"
      ]
     },
     "execution_count": 8,
     "metadata": {},
     "output_type": "execute_result"
    },
    {
     "data": {
      "image/png": "[encoded data removed]",
      "text/plain": [
       "<Figure size 600x400 with 1 Axes>"
      ]
     },
     "metadata": {},
     "output_type": "display_data"
    }
   ],
   "source": [
    "reduced_counts.plot(kind='bar', figsize = [6, 4])"
   ]
  },
  {
   "cell_type": "code",
   "execution_count": 9,
   "id": "d0d9225c",
   "metadata": {
    "scrolled": true
   },
   "outputs": [
    {
     "data": {
      "text/plain": [
       "tPB2    11596\n",
       "tPNa    55541\n",
       "tPNf     8778\n",
       "t2      37819\n",
       "t3       6442\n",
       "t4      37929\n",
       "t5      10156\n",
       "t6      11027\n",
       "t7      13659\n",
       "tM      22174\n",
       "tSB     22191\n",
       "tB      13501\n",
       "tEB     24699\n",
       "t8      41587\n",
       "t9+     65253\n",
       "tHB        97\n",
       "Name: phase, dtype: int64"
      ]
     },
     "execution_count": 9,
     "metadata": {},
     "output_type": "execute_result"
    }
   ],
   "source": [
    "counts = data.phase.value_counts(sort=False)\n",
    "counts"
   ]
  },
  {
   "cell_type": "code",
   "execution_count": 10,
   "id": "20347359",
   "metadata": {},
   "outputs": [
    {
     "data": {
      "text/plain": [
       "<Axes: >"
      ]
     },
     "execution_count": 10,
     "metadata": {},
     "output_type": "execute_result"
    },
    {
     "data": {
      "image/png": "[encoded data removed]",
      "text/plain": [
       "<Figure size 600x400 with 1 Axes>"
      ]
     },
     "metadata": {},
     "output_type": "display_data"
    }
   ],
   "source": [
    "counts.plot(kind='bar', figsize = [6, 4])"
   ]
  },
  {
   "cell_type": "code",
   "execution_count": 11,
   "id": "fbc557fa",
   "metadata": {},
   "outputs": [
    {
     "data": {
      "text/html": [
       "<div>\n",
       "<style scoped>\n",
       "    .dataframe tbody tr th:only-of-type {\n",
       "        vertical-align: middle;\n",
       "    }\n",
       "\n",
       "    .dataframe tbody tr th {\n",
       "        vertical-align: top;\n",
       "    }\n",
       "\n",
       "    .dataframe thead th {\n",
       "        text-align: right;\n",
       "    }\n",
       "</style>\n",
       "<table border=\"1\" class=\"dataframe\">\n",
       "  <thead>\n",
       "    <tr style=\"text-align: right;\">\n",
       "      <th></th>\n",
       "      <th>frame</th>\n",
       "      <th>phase</th>\n",
       "      <th>path</th>\n",
       "      <th>flag</th>\n",
       "    </tr>\n",
       "    <tr>\n",
       "      <th>case</th>\n",
       "      <th></th>\n",
       "      <th></th>\n",
       "      <th></th>\n",
       "      <th></th>\n",
       "    </tr>\n",
       "  </thead>\n",
       "  <tbody>\n",
       "    <tr>\n",
       "      <th>AA83-7</th>\n",
       "      <td>281</td>\n",
       "      <td>10</td>\n",
       "      <td>281</td>\n",
       "      <td>1</td>\n",
       "    </tr>\n",
       "    <tr>\n",
       "      <th>AAL839-6</th>\n",
       "      <td>544</td>\n",
       "      <td>12</td>\n",
       "      <td>544</td>\n",
       "      <td>2</td>\n",
       "    </tr>\n",
       "    <tr>\n",
       "      <th>AB028-6</th>\n",
       "      <td>276</td>\n",
       "      <td>7</td>\n",
       "      <td>276</td>\n",
       "      <td>1</td>\n",
       "    </tr>\n",
       "    <tr>\n",
       "      <th>AB91-1</th>\n",
       "      <td>387</td>\n",
       "      <td>13</td>\n",
       "      <td>387</td>\n",
       "      <td>2</td>\n",
       "    </tr>\n",
       "    <tr>\n",
       "      <th>AC264-1</th>\n",
       "      <td>223</td>\n",
       "      <td>9</td>\n",
       "      <td>223</td>\n",
       "      <td>1</td>\n",
       "    </tr>\n",
       "    <tr>\n",
       "      <th>...</th>\n",
       "      <td>...</td>\n",
       "      <td>...</td>\n",
       "      <td>...</td>\n",
       "      <td>...</td>\n",
       "    </tr>\n",
       "    <tr>\n",
       "      <th>WS1048-4</th>\n",
       "      <td>420</td>\n",
       "      <td>14</td>\n",
       "      <td>420</td>\n",
       "      <td>3</td>\n",
       "    </tr>\n",
       "    <tr>\n",
       "      <th>WS531-4</th>\n",
       "      <td>419</td>\n",
       "      <td>12</td>\n",
       "      <td>419</td>\n",
       "      <td>3</td>\n",
       "    </tr>\n",
       "    <tr>\n",
       "      <th>ZL1077-1</th>\n",
       "      <td>345</td>\n",
       "      <td>12</td>\n",
       "      <td>345</td>\n",
       "      <td>3</td>\n",
       "    </tr>\n",
       "    <tr>\n",
       "      <th>ZS435-5</th>\n",
       "      <td>456</td>\n",
       "      <td>15</td>\n",
       "      <td>456</td>\n",
       "      <td>3</td>\n",
       "    </tr>\n",
       "    <tr>\n",
       "      <th>ZS435-6</th>\n",
       "      <td>548</td>\n",
       "      <td>14</td>\n",
       "      <td>548</td>\n",
       "      <td>3</td>\n",
       "    </tr>\n",
       "  </tbody>\n",
       "</table>\n",
       "<p>700 rows × 4 columns</p>\n",
       "</div>"
      ],
      "text/plain": [
       "          frame  phase  path  flag\n",
       "case                              \n",
       "AA83-7      281     10   281     1\n",
       "AAL839-6    544     12   544     2\n",
       "AB028-6     276      7   276     1\n",
       "AB91-1      387     13   387     2\n",
       "AC264-1     223      9   223     1\n",
       "...         ...    ...   ...   ...\n",
       "WS1048-4    420     14   420     3\n",
       "WS531-4     419     12   419     3\n",
       "ZL1077-1    345     12   345     3\n",
       "ZS435-5     456     15   456     3\n",
       "ZS435-6     548     14   548     3\n",
       "\n",
       "[700 rows x 4 columns]"
      ]
     },
     "execution_count": 11,
     "metadata": {},
     "output_type": "execute_result"
    }
   ],
   "source": [
    "unique_phases = data.groupby(\"case\").nunique(\"frame\")\n",
    "unique_phases"
   ]
  },
  {
   "cell_type": "code",
   "execution_count": 12,
   "id": "3036d228",
   "metadata": {},
   "outputs": [
    {
     "data": {
      "text/plain": [
       "6      13\n",
       "7      32\n",
       "8      38\n",
       "9      42\n",
       "10     45\n",
       "11     90\n",
       "12     95\n",
       "13    133\n",
       "14    121\n",
       "15     90\n",
       "16      1\n",
       "Name: phase, dtype: int64"
      ]
     },
     "execution_count": 12,
     "metadata": {},
     "output_type": "execute_result"
    }
   ],
   "source": [
    "unique_phases_frequency = unique_phases.phase.value_counts(sort=False).sort_index()\n",
    "unique_phases_frequency"
   ]
  },
  {
   "cell_type": "code",
   "execution_count": 13,
   "id": "41bc2754",
   "metadata": {},
   "outputs": [
    {
     "data": {
      "text/plain": [
       "<Axes: >"
      ]
     },
     "execution_count": 13,
     "metadata": {},
     "output_type": "execute_result"
    },
    {
     "data": {
      "image/png": "[encoded data removed]",
      "text/plain": [
       "<Figure size 600x400 with 1 Axes>"
      ]
     },
     "metadata": {},
     "output_type": "display_data"
    }
   ],
   "source": [
    "unique_phases_frequency.plot(kind=\"bar\", figsize = [6, 4])"
   ]
  },
  {
   "cell_type": "markdown",
   "id": "1db5ab12",
   "metadata": {},
   "source": [
    "### splits"
   ]
  },
  {
   "cell_type": "code",
   "execution_count": 14,
   "id": "377f4414",
   "metadata": {},
   "outputs": [],
   "source": [
    "data = pd.read_csv(\"embryoAI_data.csv\")\n",
    "\n",
    "train = data.sample(frac=0.8)\n",
    "val = train.sample(frac=0.2)\n",
    "train = train[~train.isin(val).all(axis=1)]\n",
    "test = data[~data.isin(train).all(axis=1)]"
   ]
  },
  {
   "cell_type": "markdown",
   "id": "0ebee707",
   "metadata": {},
   "source": [
    "### make seperate image folders for splits"
   ]
  },
  {
   "cell_type": "code",
   "execution_count": 15,
   "id": "35caf5f5",
   "metadata": {},
   "outputs": [],
   "source": [
    "# def copy_file_to_folder(file_path, destination_folder):\n",
    "#     # get the parent folder name\n",
    "#     parent_folder = os.path.basename(os.path.dirname(file_path))\n",
    "\n",
    "#     # create the destination folder with the parent folder name\n",
    "#     destination_path = os.path.join(destination_folder, parent_folder)\n",
    "#     if not os.path.exists(destination_path):\n",
    "#         os.makedirs(destination_path)\n",
    "\n",
    "#     # copy the file to the destination folder\n",
    "#     shutil.copy(file_path, destination_path)"
   ]
  },
  {
   "cell_type": "code",
   "execution_count": 16,
   "id": "d1e483b5",
   "metadata": {},
   "outputs": [],
   "source": [
    "# train.path.progress_apply(lambda x: copy_file_to_folder(file_path = x, destination_folder = 'embryoAI_images_split/train_images'))"
   ]
  },
  {
   "cell_type": "code",
   "execution_count": 17,
   "id": "9ba54e05",
   "metadata": {},
   "outputs": [],
   "source": [
    "# val.path.progress_apply(lambda x: copy_file_to_folder(file_path = x, destination_folder = 'embryoAI_images_split/val_images'))"
   ]
  },
  {
   "cell_type": "code",
   "execution_count": 18,
   "id": "6ba0a015",
   "metadata": {},
   "outputs": [],
   "source": [
    "# test.path.progress_apply(lambda x: copy_file_to_folder(file_path = x, destination_folder = 'embryoAI_images_split/test_images'))"
   ]
  },
  {
   "cell_type": "markdown",
   "id": "46114750",
   "metadata": {},
   "source": [
    "### save splits"
   ]
  },
  {
   "cell_type": "code",
   "execution_count": 19,
   "id": "5f5b2392",
   "metadata": {},
   "outputs": [
    {
     "name": "stderr",
     "output_type": "stream",
     "text": [
      "/var/folders/hg/twdjbc3s7kx2qkztrv70gx3r0000gn/T/ipykernel_40930/3922744642.py:3: SettingWithCopyWarning: \n",
      "A value is trying to be set on a copy of a slice from a DataFrame.\n",
      "Try using .loc[row_indexer,col_indexer] = value instead\n",
      "\n",
      "See the caveats in the documentation: https://pandas.pydata.org/pandas-docs/stable/user_guide/indexing.html#returning-a-view-versus-a-copy\n",
      "  test[\"path\"] = test.path.str.replace(\"embryoAI_images/\", \"\")\n"
     ]
    }
   ],
   "source": [
    "train[\"path\"] = train.path.str.replace(\"embryoAI_images/\", \"\")\n",
    "val[\"path\"] = val.path.str.replace(\"embryoAI_images/\", \"\")\n",
    "test[\"path\"] = test.path.str.replace(\"embryoAI_images/\", \"\")"
   ]
  },
  {
   "cell_type": "code",
   "execution_count": 21,
   "id": "e4eeef1d",
   "metadata": {},
   "outputs": [],
   "source": [
    "train.to_csv(\"embryoAI_train.csv\", index = False)\n",
    "val.to_csv(\"embryoAI_val.csv\", index = False)\n",
    "test.to_csv(\"embryoAI_test.csv\", index = False)"
   ]
  },
  {
   "cell_type": "code",
   "execution_count": null,
   "id": "548639a6",
   "metadata": {},
   "outputs": [],
   "source": []
  }
 ],
 "metadata": {
  "kernelspec": {
   "display_name": "Python 3 (ipykernel)",
   "language": "python",
   "name": "python3"
  },
  "language_info": {
   "codemirror_mode": {
    "name": "ipython",
    "version": 3
   },
   "file_extension": ".py",
   "mimetype": "text/x-python",
   "name": "python",
   "nbconvert_exporter": "python",
   "pygments_lexer": "ipython3",
   "version": "3.9.6"
  }
 },
 "nbformat": 4,
 "nbformat_minor": 5
}
