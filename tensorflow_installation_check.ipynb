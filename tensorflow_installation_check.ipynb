{
 "cells": [
  {
   "cell_type": "markdown",
   "id": "6e6e6336",
   "metadata": {},
   "source": [
    "### pc"
   ]
  },
  {
   "cell_type": "code",
   "execution_count": null,
   "id": "06282e5a",
   "metadata": {},
   "outputs": [],
   "source": [
    "# https://www.tensorflow.org/install/pip#windows-native\n",
    "\n",
    "# First install NVIDIA GPU driver if you have not.\n",
    "\n",
    "! conda install -c conda-forge cudatoolkit=11.2 cudnn=8.1.0\n",
    "\n",
    "# Anything above 2.10 is not supported on the GPU on Windows Native\n",
    "! pip install \"tensorflow<2.11\" "
   ]
  },
  {
   "cell_type": "code",
   "execution_count": 3,
   "id": "fc7b9739",
   "metadata": {},
   "outputs": [
    {
     "name": "stdout",
     "output_type": "stream",
     "text": [
      "2.10.1\n",
      "[PhysicalDevice(name='/physical_device:GPU:0', device_type='GPU')]\n"
     ]
    }
   ],
   "source": [
    "import tensorflow as tf\n",
    "\n",
    "print(tf.__version__)\n",
    "print(tf.config.list_physical_devices('GPU'))"
   ]
  },
  {
   "cell_type": "code",
   "execution_count": 2,
   "id": "d6bd4ade",
   "metadata": {},
   "outputs": [
    {
     "data": {
      "text/plain": [
       "True"
      ]
     },
     "execution_count": 2,
     "metadata": {},
     "output_type": "execute_result"
    }
   ],
   "source": [
    "tf.test.is_built_with_cuda()"
   ]
  },
  {
   "cell_type": "markdown",
   "id": "0c604988",
   "metadata": {},
   "source": [
    "### mac"
   ]
  },
  {
   "cell_type": "code",
   "execution_count": null,
   "id": "7e6426b1",
   "metadata": {},
   "outputs": [],
   "source": [
    "! pip3 install tensorflow-macos==2.9\n",
    "! pip3 install tensorflow-metal==0.5.0"
   ]
  },
  {
   "cell_type": "code",
   "execution_count": null,
   "id": "801e202e",
   "metadata": {},
   "outputs": [],
   "source": [
    "import tensorflow as tf\n",
    "\n",
    "tf.__version__\n",
    "tf.config.list_physical_devices()"
   ]
  },
  {
   "cell_type": "markdown",
   "id": "ff4d8d76",
   "metadata": {},
   "source": [
    "### test"
   ]
  },
  {
   "cell_type": "code",
   "execution_count": null,
   "id": "192d07d4",
   "metadata": {},
   "outputs": [],
   "source": [
    "mnist = tf.keras.datasets.mnist\n",
    "(x_train, y_train), (x_test, y_test) = mnist.load_data()\n",
    "x_train, x_test = x_train / 255.0, x_test / 255.0\n",
    "model = tf.keras.models.Sequential([\n",
    " tf.keras.layers.Flatten(input_shape=(28, 28)),\n",
    " tf.keras.layers.Dense(128, activation='relu'),\n",
    " tf.keras.layers.Dropout(0.2),\n",
    " tf.keras.layers.Dense(10)\n",
    "])\n",
    "loss_fn = tf.keras.losses.SparseCategoricalCrossentropy(from_logits=True)\n",
    "model.compile(optimizer='adam',\n",
    " loss=loss_fn,\n",
    " metrics=['accuracy'])\n",
    "model.fit(x_train, y_train, epochs=10)"
   ]
  }
 ],
 "metadata": {
  "kernelspec": {
   "display_name": "Python 3 (ipykernel)",
   "language": "python",
   "name": "python3"
  },
  "language_info": {
   "codemirror_mode": {
    "name": "ipython",
    "version": 3
   },
   "file_extension": ".py",
   "mimetype": "text/x-python",
   "name": "python",
   "nbconvert_exporter": "python",
   "pygments_lexer": "ipython3",
   "version": "3.9.7"
  }
 },
 "nbformat": 4,
 "nbformat_minor": 5
}
